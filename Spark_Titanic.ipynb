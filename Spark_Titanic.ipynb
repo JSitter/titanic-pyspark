{
 "cells": [
  {
   "cell_type": "code",
   "execution_count": 2,
   "metadata": {
    "collapsed": true
   },
   "outputs": [],
   "source": [
    "import numpy as np\n",
    "from pyspark import SparkContext \n",
    "from pyspark.sql import SparkSession\n",
    "import matplotlib.pyplot as plt\n",
    "import matplotlib.ticker as tick"
   ]
  },
  {
   "cell_type": "code",
   "execution_count": 3,
   "metadata": {
    "collapsed": true
   },
   "outputs": [],
   "source": [
    "spark = SparkSession.builder \\\n",
    "    .appName(\"Python Spark regression example\") \\\n",
    "    .config(\"spark.some.config.option\", \"some-value\") \\\n",
    "    .getOrCreate()"
   ]
  },
  {
   "cell_type": "code",
   "execution_count": 4,
   "metadata": {},
   "outputs": [
    {
     "data": {
      "text/plain": [
       "Row(_c0='PassengerId', _c1='Survived', _c2='Pclass', _c3='Name', _c4='Sex', _c5='Age', _c6='SibSp', _c7='Parch', _c8='Ticket', _c9='Fare', _c10='Cabin', _c11='Embarked')"
      ]
     },
     "execution_count": 4,
     "metadata": {},
     "output_type": "execute_result"
    }
   ],
   "source": [
    "# sc = SparkContext.getOrCreate()\n",
    "df = spark.read.load(\"./titanic.csv\", format=\"csv\", inferSchema=\"true\")\n",
    "\n",
    "df.first()"
   ]
  },
  {
   "cell_type": "code",
   "execution_count": 5,
   "metadata": {},
   "outputs": [
    {
     "data": {
      "text/plain": [
       "892"
      ]
     },
     "execution_count": 5,
     "metadata": {},
     "output_type": "execute_result"
    }
   ],
   "source": [
    "df.count()"
   ]
  },
  {
   "cell_type": "code",
   "execution_count": 6,
   "metadata": {},
   "outputs": [
    {
     "data": {
      "text/plain": [
       "[Row(_c0='PassengerId', _c1='Survived', _c2='Pclass', _c3='Name', _c4='Sex', _c5='Age', _c6='SibSp', _c7='Parch', _c8='Ticket', _c9='Fare', _c10='Cabin', _c11='Embarked'),\n",
       " Row(_c0='1', _c1='0', _c2='3', _c3='Braund, Mr. Owen Harris', _c4='male', _c5='22', _c6='1', _c7='0', _c8='A/5 21171', _c9='7.25', _c10=None, _c11='S'),\n",
       " Row(_c0='2', _c1='1', _c2='1', _c3='Cumings, Mrs. John Bradley (Florence Briggs Thayer)', _c4='female', _c5='38', _c6='1', _c7='0', _c8='PC 17599', _c9='71.2833', _c10='C85', _c11='C'),\n",
       " Row(_c0='3', _c1='1', _c2='3', _c3='Heikkinen, Miss. Laina', _c4='female', _c5='26', _c6='0', _c7='0', _c8='STON/O2. 3101282', _c9='7.925', _c10=None, _c11='S'),\n",
       " Row(_c0='4', _c1='1', _c2='1', _c3='Futrelle, Mrs. Jacques Heath (Lily May Peel)', _c4='female', _c5='35', _c6='1', _c7='0', _c8='113803', _c9='53.1', _c10='C123', _c11='S'),\n",
       " Row(_c0='5', _c1='0', _c2='3', _c3='Allen, Mr. William Henry', _c4='male', _c5='35', _c6='0', _c7='0', _c8='373450', _c9='8.05', _c10=None, _c11='S'),\n",
       " Row(_c0='6', _c1='0', _c2='3', _c3='Moran, Mr. James', _c4='male', _c5=None, _c6='0', _c7='0', _c8='330877', _c9='8.4583', _c10=None, _c11='Q'),\n",
       " Row(_c0='7', _c1='0', _c2='1', _c3='McCarthy, Mr. Timothy J', _c4='male', _c5='54', _c6='0', _c7='0', _c8='17463', _c9='51.8625', _c10='E46', _c11='S'),\n",
       " Row(_c0='8', _c1='0', _c2='3', _c3='Palsson, Master. Gosta Leonard', _c4='male', _c5='2', _c6='3', _c7='1', _c8='349909', _c9='21.075', _c10=None, _c11='S'),\n",
       " Row(_c0='9', _c1='1', _c2='3', _c3='Johnson, Mrs. Oscar W (Elisabeth Vilhelmina Berg)', _c4='female', _c5='27', _c6='0', _c7='2', _c8='347742', _c9='11.1333', _c10=None, _c11='S'),\n",
       " Row(_c0='10', _c1='1', _c2='2', _c3='Nasser, Mrs. Nicholas (Adele Achem)', _c4='female', _c5='14', _c6='1', _c7='0', _c8='237736', _c9='30.0708', _c10=None, _c11='C'),\n",
       " Row(_c0='11', _c1='1', _c2='3', _c3='Sandstrom, Miss. Marguerite Rut', _c4='female', _c5='4', _c6='1', _c7='1', _c8='PP 9549', _c9='16.7', _c10='G6', _c11='S'),\n",
       " Row(_c0='12', _c1='1', _c2='1', _c3='Bonnell, Miss. Elizabeth', _c4='female', _c5='58', _c6='0', _c7='0', _c8='113783', _c9='26.55', _c10='C103', _c11='S'),\n",
       " Row(_c0='13', _c1='0', _c2='3', _c3='Saundercock, Mr. William Henry', _c4='male', _c5='20', _c6='0', _c7='0', _c8='A/5. 2151', _c9='8.05', _c10=None, _c11='S'),\n",
       " Row(_c0='14', _c1='0', _c2='3', _c3='Andersson, Mr. Anders Johan', _c4='male', _c5='39', _c6='1', _c7='5', _c8='347082', _c9='31.275', _c10=None, _c11='S')]"
      ]
     },
     "execution_count": 6,
     "metadata": {},
     "output_type": "execute_result"
    }
   ],
   "source": [
    "df.take(15)"
   ]
  },
  {
   "cell_type": "code",
   "execution_count": null,
   "metadata": {
    "collapsed": true
   },
   "outputs": [],
   "source": []
  },
  {
   "cell_type": "code",
   "execution_count": 9,
   "metadata": {},
   "outputs": [
    {
     "data": {
      "text/plain": [
       "pyspark.sql.dataframe.DataFrame"
      ]
     },
     "execution_count": 9,
     "metadata": {},
     "output_type": "execute_result"
    }
   ],
   "source": [
    "type(df)"
   ]
  },
  {
   "cell_type": "code",
   "execution_count": 32,
   "metadata": {},
   "outputs": [
    {
     "data": {
      "text/plain": [
       "892"
      ]
     },
     "execution_count": 32,
     "metadata": {},
     "output_type": "execute_result"
    }
   ],
   "source": [
    "len(df.collect())"
   ]
  },
  {
   "cell_type": "code",
   "execution_count": 12,
   "metadata": {},
   "outputs": [
    {
     "name": "stdout",
     "output_type": "stream",
     "text": [
      "+-------+-----------------+-------------------+------------------+--------------------+----+------------------+------------------+-------------------+------------------+-----------------+----+----+\n",
      "|summary|              _c0|                _c1|               _c2|                 _c3| _c4|               _c5|               _c6|                _c7|               _c8|              _c9|_c10|_c11|\n",
      "+-------+-----------------+-------------------+------------------+--------------------+----+------------------+------------------+-------------------+------------------+-----------------+----+----+\n",
      "|  count|              892|                892|               892|                 892| 892|               715|               892|                892|               892|              892| 205| 890|\n",
      "|   mean|            446.0| 0.3838383838383838| 2.308641975308642|                null|null| 29.69911764705882|0.5230078563411896|0.38159371492704824|260318.54916792738| 32.2042079685746|null|null|\n",
      "| stddev|257.3538420152301|0.48659245426485753|0.8360712409770491|                null|null|14.526497332334035|1.1027434322934315| 0.8060572211299488|471609.26868834975|49.69342859718089|null|null|\n",
      "|    min|                1|                  0|                 1|\"Andersson, Mr. A...| Sex|              0.42|                 0|                  0|            110152|                0| A10|   C|\n",
      "|    max|      PassengerId|           Survived|            Pclass|van Melkebeke, Mr...|male|               Age|             SibSp|              Parch|         WE/P 5735|             Fare|   T|   S|\n",
      "+-------+-----------------+-------------------+------------------+--------------------+----+------------------+------------------+-------------------+------------------+-----------------+----+----+\n",
      "\n"
     ]
    }
   ],
   "source": [
    "df.describe().show()"
   ]
  },
  {
   "cell_type": "code",
   "execution_count": 17,
   "metadata": {},
   "outputs": [
    {
     "name": "stdout",
     "output_type": "stream",
     "text": [
      "892 12\n"
     ]
    }
   ],
   "source": [
    "# Shape of Dataframe\n",
    "print(df.count(), len(df.columns))"
   ]
  },
  {
   "cell_type": "markdown",
   "metadata": {},
   "source": [
    "VARIABLE DESCRIPTIONS:\n",
    "survival        Survival\n",
    "                (0 = No; 1 = Yes)\n",
    "pclass          Passenger Class\n",
    "                (1 = 1st; 2 = 2nd; 3 = 3rd)\n",
    "name            Name\n",
    "sex             Sex\n",
    "age             Age\n",
    "sibsp           Number of Siblings/Spouses Aboard\n",
    "parch           Number of Parents/Children Aboard\n",
    "ticket          Ticket Number\n",
    "fare            Passenger Fare\n",
    "cabin           Cabin\n",
    "embarked        Port of Embarkation\n",
    "                (C = Cherbourg; Q = Queenstown; S = Southampton)"
   ]
  },
  {
   "cell_type": "markdown",
   "metadata": {},
   "source": [
    "## Plot how many passengers were children, youth, or middle age and old?"
   ]
  },
  {
   "cell_type": "code",
   "execution_count": 66,
   "metadata": {
    "collapsed": true
   },
   "outputs": [],
   "source": [
    "def hist(pyspark_df):\n",
    "#     binSides, binCounts = pyspark_df\n",
    "    \n",
    "    N = len(binCounts)\n",
    "    ind = np.arrange(N)\n",
    "    width = 1\n",
    "    \n",
    "    fix, ax = plt.subplots()\n",
    "    rect = ax.bar(ind+0.5, binCounts, width, color='b')\n",
    "    \n",
    "    ax.set_ylabel('Frequencies')\n",
    "    ax.set_title('Histogram')\n",
    "    ax.set_xticks(np.arange(N+1))\n",
    "#     ax.set_xticklabels(binSides)\n",
    "    ax.xaxis.set_major_formatter(mtick.FormatStrFormatter('%.2e'))\n",
    "    \n",
    "    plt.show()"
   ]
  },
  {
   "cell_type": "code",
   "execution_count": 59,
   "metadata": {},
   "outputs": [
    {
     "ename": "ValueError",
     "evalue": "too many values to unpack (expected 2)",
     "output_type": "error",
     "traceback": [
      "\u001b[0;31m---------------------------------------------------------------------------\u001b[0m",
      "\u001b[0;31mValueError\u001b[0m                                Traceback (most recent call last)",
      "\u001b[0;32m<ipython-input-59-4b0e9b4f2c28>\u001b[0m in \u001b[0;36m<module>\u001b[0;34m()\u001b[0m\n\u001b[0;32m----> 1\u001b[0;31m \u001b[0mthist\u001b[0m\u001b[0;34m(\u001b[0m\u001b[0mdf\u001b[0m\u001b[0;34m)\u001b[0m\u001b[0;34m\u001b[0m\u001b[0m\n\u001b[0m",
      "\u001b[0;32m<ipython-input-58-a15274b85ea0>\u001b[0m in \u001b[0;36mthist\u001b[0;34m(pyspark_df)\u001b[0m\n\u001b[1;32m      1\u001b[0m \u001b[0;32mdef\u001b[0m \u001b[0mthist\u001b[0m\u001b[0;34m(\u001b[0m\u001b[0mpyspark_df\u001b[0m\u001b[0;34m)\u001b[0m\u001b[0;34m:\u001b[0m\u001b[0;34m\u001b[0m\u001b[0m\n\u001b[0;32m----> 2\u001b[0;31m     \u001b[0mbinSides\u001b[0m\u001b[0;34m,\u001b[0m \u001b[0mbinCounts\u001b[0m \u001b[0;34m=\u001b[0m \u001b[0mpyspark_df\u001b[0m\u001b[0;34m\u001b[0m\u001b[0m\n\u001b[0m\u001b[1;32m      3\u001b[0m \u001b[0;34m\u001b[0m\u001b[0m\n\u001b[1;32m      4\u001b[0m     \u001b[0mN\u001b[0m \u001b[0;34m=\u001b[0m \u001b[0mlen\u001b[0m\u001b[0;34m(\u001b[0m\u001b[0mbinCounts\u001b[0m\u001b[0;34m)\u001b[0m\u001b[0;34m\u001b[0m\u001b[0m\n\u001b[1;32m      5\u001b[0m     \u001b[0mind\u001b[0m \u001b[0;34m=\u001b[0m \u001b[0mnp\u001b[0m\u001b[0;34m.\u001b[0m\u001b[0marrange\u001b[0m\u001b[0;34m(\u001b[0m\u001b[0mN\u001b[0m\u001b[0;34m)\u001b[0m\u001b[0;34m\u001b[0m\u001b[0m\n",
      "\u001b[0;31mValueError\u001b[0m: too many values to unpack (expected 2)"
     ]
    }
   ],
   "source": [
    "hist(df)"
   ]
  },
  {
   "cell_type": "code",
   "execution_count": 31,
   "metadata": {},
   "outputs": [
    {
     "data": {
      "text/plain": [
       "Row(max(_c5)='Age')"
      ]
     },
     "execution_count": 31,
     "metadata": {},
     "output_type": "execute_result"
    }
   ],
   "source": [
    "max_age"
   ]
  },
  {
   "cell_type": "code",
   "execution_count": null,
   "metadata": {
    "collapsed": true
   },
   "outputs": [],
   "source": []
  }
 ],
 "metadata": {
  "kernelspec": {
   "display_name": "Python 3",
   "language": "python",
   "name": "python3"
  },
  "language_info": {
   "codemirror_mode": {
    "name": "ipython",
    "version": 3
   },
   "file_extension": ".py",
   "mimetype": "text/x-python",
   "name": "python",
   "nbconvert_exporter": "python",
   "pygments_lexer": "ipython3",
   "version": "3.6.3"
  }
 },
 "nbformat": 4,
 "nbformat_minor": 2
}
